{
 "cells": [
  {
   "cell_type": "markdown",
   "id": "25d7736c-ba17-4aff-b6bb-66eba20fbf4e",
   "metadata": {},
   "source": [
    "# Lab | List, Dict and Set Comprehension"
   ]
  },
  {
   "cell_type": "markdown",
   "id": "7dd3cbde-675a-4b81-92c3-f728846dbe06",
   "metadata": {},
   "source": [
    "## Exercise: Managing Customer Orders Optimized with Comprehension"
   ]
  },
  {
   "cell_type": "markdown",
   "id": "5d500160-2fb7-4777-b5e4-09d45ebaf328",
   "metadata": {},
   "source": [
    "In the previous exercise, you developed a program to manage customer orders and inventory. Now, let's take it a step further and incorporate comprehension into your code.\n",
    "\n",
    "Follow the steps below to complete the exercise:\n",
    "\n",
    "1. Review your code from the previous exercise and identify areas where you can apply comprehension to simplify and streamline your code. \n",
    "\n",
    "    - *Hint: Apply it to initialize inventory, updating the inventory and printing the updated inventory.*\n",
    "    \n",
    "    - For example, in initializing the inventory, we could have:\n",
    "    \n",
    "        ```python\n",
    "        def initialize_inventory(products):\n",
    "            inventory = {product: int(input(f\"Enter the quantity of {product}s available: \")) for product in products}\n",
    "            return inventory\n",
    "\n",
    "        ```\n",
    "<br>\n",
    "    \n",
    "    \n",
    "2. Modify the function get_customer_orders so it prompts the user to enter the number of customer orders and gathers the product names using a loop and user input. Use comprehension.\n",
    "\n",
    "3. Add a new function to calculate the total price of the customer order. For each product in customer_orders, prompt the user to enter the price of that product. Use comprehension to calculate the total price. Note: assume that the user can only have 1 unit of each product.\n",
    "\n",
    "4. Modify the update_inventory function to remove the product from the inventory if its quantity becomes zero after fulfilling the customer orders. Use comprehension to filter out the products with a quantity of zero from the inventory.\n",
    "\n",
    "5. Print the total price of the customer order.\n",
    "\n",
    "Your code should produce output similar to the following:\n",
    "\n",
    "```python\n",
    "Enter the quantity of t-shirts available:  5\n",
    "Enter the quantity of mugs available:  4\n",
    "Enter the quantity of hats available:  3\n",
    "Enter the quantity of books available:  2\n",
    "Enter the quantity of keychains available:  1\n",
    "Enter the number of customer orders:  2\n",
    "Enter the name of a product that a customer wants to order:  hat\n",
    "Enter the name of a product that a customer wants to order:  keychain\n",
    "\n",
    "Order Statistics:\n",
    "Total Products Ordered: 2\n",
    "Percentage of Unique Products Ordered: 40.0\n",
    "\n",
    "Updated Inventory:\n",
    "t-shirt: 5\n",
    "mug: 4\n",
    "hat: 2\n",
    "book: 2\n",
    "Enter the price of keychain:  5\n",
    "Enter the price of hat:  10\n",
    "Total Price: 15.0\n",
    "\n",
    "```\n"
   ]
  },
  {
   "cell_type": "code",
   "execution_count": 213,
   "id": "8b0d94ac-c996-4561-b2e3-3fa91faaba14",
   "metadata": {},
   "outputs": [],
   "source": [
    "def initialize_inventory(products):\n",
    "    inventory = {product: int(input(f\"Enter the quantity of {product}s available: \")) for product in products}\n",
    "    return inventory"
   ]
  },
  {
   "cell_type": "code",
   "execution_count": 214,
   "id": "7eaed13e-0f3e-4b14-885c-360be7596781",
   "metadata": {},
   "outputs": [],
   "source": [
    "def get_customer_orders():\n",
    "    x = int(input(\"Enter the number of customer orders: \"))\n",
    "    customer_orders= set(input(\"Enter the name of a product that a customer wants to order \").lower() for i in range(x))\n",
    "    return customer_orders"
   ]
  },
  {
   "cell_type": "code",
   "execution_count": 215,
   "id": "728cd48b-0265-4060-9862-7a70a8c71b3a",
   "metadata": {},
   "outputs": [],
   "source": [
    "def update_inventory(customer_orders, inventory):\n",
    "    for item in customer_orders:\n",
    "        if item in inventory:\n",
    "            inventory[item]-=1\n",
    "        else:\n",
    "            print(f\"Item '{item}' is either out of stock or not available in inventory.\")\n",
    "    return inventory   "
   ]
  },
  {
   "cell_type": "code",
   "execution_count": 216,
   "id": "fd505d72-a6ce-4a10-958e-6a141c6b48fa",
   "metadata": {},
   "outputs": [],
   "source": [
    "def calculate_order_statistics(customer_orders,products):\n",
    "    total_products_ordered= len(customer_orders)\n",
    "    unique_percentage= (len(customer_orders)/ len(products))*100\n",
    "    \n",
    "    return total_products_ordered, unique_percentage"
   ]
  },
  {
   "cell_type": "code",
   "execution_count": 217,
   "id": "fae71e35-045e-4b3d-b20e-eb194e83e5e7",
   "metadata": {},
   "outputs": [],
   "source": [
    "def print_order_statistics(order_statistics):\n",
    "    total_products_ordered, unique_percentage = order_statistics\n",
    "    print(\"\\nOrdered statistics:\")\n",
    "    print(f\"Total products ordered: {total_products_ordered}\")\n",
    "    print(f\"Percentage of unique products ordered: {unique_percentage:.2f}%\")"
   ]
  },
  {
   "cell_type": "code",
   "execution_count": 218,
   "id": "ebe750f9-d18b-45ee-9c63-acc96cbac51c",
   "metadata": {},
   "outputs": [],
   "source": [
    "def total_price_orders(customer_orders):\n",
    "    total_price = sum(float(input(f\"Enter the price of {product}: \")) for product in customer_orders)\n",
    "    print(f\"Total price: {total_price}\")\n",
    "    return total_price"
   ]
  },
  {
   "cell_type": "code",
   "execution_count": 219,
   "id": "494f409d-0531-4bc7-b48a-93559f6026f5",
   "metadata": {},
   "outputs": [],
   "source": [
    "def print_updated_inventory(inventory):\n",
    "    print(\"\\nUpdated inventory:\")\n",
    "    \n",
    "    items_to_remove = [key for key, value in inventory.items() if value == 0] # Create a list of keys to remove, where the value is 0\n",
    "    \n",
    "    for item in items_to_remove:  # Remove the items with quantity 0 from the inventory\n",
    "        inventory.pop(item)\n",
    "    \n",
    "    for key, value in inventory.items():  # Print the updated inventory\n",
    "        print(f\"{key}: {value}\")\n"
   ]
  },
  {
   "cell_type": "code",
   "execution_count": 220,
   "id": "fc34fffc-a78f-487b-803c-06d7e1047653",
   "metadata": {},
   "outputs": [],
   "source": [
    "def main(): \n",
    "    products=[\"t-shirt\", \"mug\", \"hat\", \"book\", \"keychain\"]\n",
    "    inventory= initialize_inventory(products)\n",
    "    customer_orders= get_customer_orders()\n",
    "    updated_inventory = update_inventory(customer_orders, inventory)\n",
    "    order_statistics = calculate_order_statistics(customer_orders, products)\n",
    "    print_order_statistics(order_statistics)\n",
    "    print_updated_inventory(updated_inventory)\n",
    "    total_price= total_price_orders(customer_orders)\n",
    "    \n",
    "    "
   ]
  },
  {
   "cell_type": "code",
   "execution_count": 221,
   "id": "c179d1f6-229a-4340-b482-ac22a3a3c18c",
   "metadata": {},
   "outputs": [
    {
     "name": "stdin",
     "output_type": "stream",
     "text": [
      "Enter the quantity of t-shirts available:  5\n",
      "Enter the quantity of mugs available:  3\n",
      "Enter the quantity of hats available:  1\n",
      "Enter the quantity of books available:  4\n",
      "Enter the quantity of keychains available:  5\n",
      "Enter the number of customer orders:  2\n",
      "Enter the name of a product that a customer wants to order  HAT\n",
      "Enter the name of a product that a customer wants to order  MUG\n"
     ]
    },
    {
     "name": "stdout",
     "output_type": "stream",
     "text": [
      "\n",
      "Ordered statistics:\n",
      "Total products ordered: 2\n",
      "Percentage of unique products ordered: 40.00%\n",
      "\n",
      "Updated inventory:\n",
      "t-shirt: 5\n",
      "mug: 2\n",
      "book: 4\n",
      "keychain: 5\n"
     ]
    },
    {
     "name": "stdin",
     "output_type": "stream",
     "text": [
      "Enter the price of mug:  5\n",
      "Enter the price of hat:  8\n"
     ]
    },
    {
     "name": "stdout",
     "output_type": "stream",
     "text": [
      "Total price: 13.0\n"
     ]
    }
   ],
   "source": [
    "if __name__ == \"__main__\":\n",
    "    main()"
   ]
  },
  {
   "cell_type": "code",
   "execution_count": null,
   "id": "8392f1fb-f367-4a67-ab08-8536d684bb79",
   "metadata": {},
   "outputs": [],
   "source": []
  }
 ],
 "metadata": {
  "kernelspec": {
   "display_name": "Python 3 (ipykernel)",
   "language": "python",
   "name": "python3"
  },
  "language_info": {
   "codemirror_mode": {
    "name": "ipython",
    "version": 3
   },
   "file_extension": ".py",
   "mimetype": "text/x-python",
   "name": "python",
   "nbconvert_exporter": "python",
   "pygments_lexer": "ipython3",
   "version": "3.11.7"
  }
 },
 "nbformat": 4,
 "nbformat_minor": 5
}
